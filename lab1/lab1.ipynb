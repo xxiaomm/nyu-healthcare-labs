{
 "cells": [
  {
   "cell_type": "code",
   "execution_count": 1,
   "id": "4d1f8e29",
   "metadata": {},
   "outputs": [],
   "source": [
    "import numpy as np\n",
    "import pandas as pd\n",
    "import matplotlib.pyplot as plt"
   ]
  },
  {
   "cell_type": "markdown",
   "id": "88b5c166",
   "metadata": {},
   "source": [
    "### 1. Show the first 15 rows of the dataset."
   ]
  },
  {
   "cell_type": "code",
   "execution_count": 2,
   "id": "5f072a3e",
   "metadata": {},
   "outputs": [
    {
     "data": {
      "text/html": [
       "<div>\n",
       "<style scoped>\n",
       "    .dataframe tbody tr th:only-of-type {\n",
       "        vertical-align: middle;\n",
       "    }\n",
       "\n",
       "    .dataframe tbody tr th {\n",
       "        vertical-align: top;\n",
       "    }\n",
       "\n",
       "    .dataframe thead th {\n",
       "        text-align: right;\n",
       "    }\n",
       "</style>\n",
       "<table border=\"1\" class=\"dataframe\">\n",
       "  <thead>\n",
       "    <tr style=\"text-align: right;\">\n",
       "      <th></th>\n",
       "      <th>Patient_ID</th>\n",
       "      <th>Treatment</th>\n",
       "      <th>HemoglobinA1C.Baseline</th>\n",
       "      <th>HemoglobinA1C.Followup</th>\n",
       "      <th>Female</th>\n",
       "      <th>Age</th>\n",
       "      <th>SBP</th>\n",
       "      <th>BMI</th>\n",
       "    </tr>\n",
       "  </thead>\n",
       "  <tbody>\n",
       "    <tr>\n",
       "      <th>0</th>\n",
       "      <td>1</td>\n",
       "      <td>False</td>\n",
       "      <td>4.9</td>\n",
       "      <td>7.1</td>\n",
       "      <td>False</td>\n",
       "      <td>43</td>\n",
       "      <td>123</td>\n",
       "      <td>25.43</td>\n",
       "    </tr>\n",
       "    <tr>\n",
       "      <th>1</th>\n",
       "      <td>2</td>\n",
       "      <td>True</td>\n",
       "      <td>5.1</td>\n",
       "      <td>5.4</td>\n",
       "      <td>False</td>\n",
       "      <td>47</td>\n",
       "      <td>128</td>\n",
       "      <td>26.28</td>\n",
       "    </tr>\n",
       "    <tr>\n",
       "      <th>2</th>\n",
       "      <td>3</td>\n",
       "      <td>True</td>\n",
       "      <td>5.1</td>\n",
       "      <td>4.3</td>\n",
       "      <td>True</td>\n",
       "      <td>55</td>\n",
       "      <td>120</td>\n",
       "      <td>28.21</td>\n",
       "    </tr>\n",
       "    <tr>\n",
       "      <th>3</th>\n",
       "      <td>4</td>\n",
       "      <td>True</td>\n",
       "      <td>5.2</td>\n",
       "      <td>5.1</td>\n",
       "      <td>True</td>\n",
       "      <td>54</td>\n",
       "      <td>132</td>\n",
       "      <td>25.98</td>\n",
       "    </tr>\n",
       "    <tr>\n",
       "      <th>4</th>\n",
       "      <td>5</td>\n",
       "      <td>True</td>\n",
       "      <td>5.2</td>\n",
       "      <td>7.1</td>\n",
       "      <td>True</td>\n",
       "      <td>40</td>\n",
       "      <td>111</td>\n",
       "      <td>26.22</td>\n",
       "    </tr>\n",
       "    <tr>\n",
       "      <th>5</th>\n",
       "      <td>6</td>\n",
       "      <td>False</td>\n",
       "      <td>5.2</td>\n",
       "      <td>5.0</td>\n",
       "      <td>False</td>\n",
       "      <td>48</td>\n",
       "      <td>135</td>\n",
       "      <td>27.68</td>\n",
       "    </tr>\n",
       "    <tr>\n",
       "      <th>6</th>\n",
       "      <td>7</td>\n",
       "      <td>True</td>\n",
       "      <td>5.2</td>\n",
       "      <td>3.1</td>\n",
       "      <td>True</td>\n",
       "      <td>36</td>\n",
       "      <td>101</td>\n",
       "      <td>25.53</td>\n",
       "    </tr>\n",
       "    <tr>\n",
       "      <th>7</th>\n",
       "      <td>8</td>\n",
       "      <td>True</td>\n",
       "      <td>5.4</td>\n",
       "      <td>5.8</td>\n",
       "      <td>False</td>\n",
       "      <td>45</td>\n",
       "      <td>113</td>\n",
       "      <td>30.50</td>\n",
       "    </tr>\n",
       "    <tr>\n",
       "      <th>8</th>\n",
       "      <td>9</td>\n",
       "      <td>True</td>\n",
       "      <td>5.5</td>\n",
       "      <td>6.1</td>\n",
       "      <td>True</td>\n",
       "      <td>50</td>\n",
       "      <td>113</td>\n",
       "      <td>28.68</td>\n",
       "    </tr>\n",
       "    <tr>\n",
       "      <th>9</th>\n",
       "      <td>10</td>\n",
       "      <td>True</td>\n",
       "      <td>5.6</td>\n",
       "      <td>3.7</td>\n",
       "      <td>False</td>\n",
       "      <td>35</td>\n",
       "      <td>115</td>\n",
       "      <td>28.84</td>\n",
       "    </tr>\n",
       "    <tr>\n",
       "      <th>10</th>\n",
       "      <td>11</td>\n",
       "      <td>False</td>\n",
       "      <td>5.6</td>\n",
       "      <td>5.7</td>\n",
       "      <td>True</td>\n",
       "      <td>62</td>\n",
       "      <td>121</td>\n",
       "      <td>29.56</td>\n",
       "    </tr>\n",
       "    <tr>\n",
       "      <th>11</th>\n",
       "      <td>12</td>\n",
       "      <td>True</td>\n",
       "      <td>5.6</td>\n",
       "      <td>6.5</td>\n",
       "      <td>False</td>\n",
       "      <td>46</td>\n",
       "      <td>125</td>\n",
       "      <td>29.42</td>\n",
       "    </tr>\n",
       "    <tr>\n",
       "      <th>12</th>\n",
       "      <td>13</td>\n",
       "      <td>False</td>\n",
       "      <td>5.7</td>\n",
       "      <td>7.7</td>\n",
       "      <td>False</td>\n",
       "      <td>54</td>\n",
       "      <td>133</td>\n",
       "      <td>28.37</td>\n",
       "    </tr>\n",
       "    <tr>\n",
       "      <th>13</th>\n",
       "      <td>14</td>\n",
       "      <td>False</td>\n",
       "      <td>5.7</td>\n",
       "      <td>3.3</td>\n",
       "      <td>True</td>\n",
       "      <td>49</td>\n",
       "      <td>113</td>\n",
       "      <td>26.01</td>\n",
       "    </tr>\n",
       "    <tr>\n",
       "      <th>14</th>\n",
       "      <td>15</td>\n",
       "      <td>True</td>\n",
       "      <td>5.7</td>\n",
       "      <td>5.8</td>\n",
       "      <td>True</td>\n",
       "      <td>64</td>\n",
       "      <td>120</td>\n",
       "      <td>25.53</td>\n",
       "    </tr>\n",
       "  </tbody>\n",
       "</table>\n",
       "</div>"
      ],
      "text/plain": [
       "    Patient_ID  Treatment  HemoglobinA1C.Baseline  HemoglobinA1C.Followup  \\\n",
       "0            1      False                     4.9                     7.1   \n",
       "1            2       True                     5.1                     5.4   \n",
       "2            3       True                     5.1                     4.3   \n",
       "3            4       True                     5.2                     5.1   \n",
       "4            5       True                     5.2                     7.1   \n",
       "5            6      False                     5.2                     5.0   \n",
       "6            7       True                     5.2                     3.1   \n",
       "7            8       True                     5.4                     5.8   \n",
       "8            9       True                     5.5                     6.1   \n",
       "9           10       True                     5.6                     3.7   \n",
       "10          11      False                     5.6                     5.7   \n",
       "11          12       True                     5.6                     6.5   \n",
       "12          13      False                     5.7                     7.7   \n",
       "13          14      False                     5.7                     3.3   \n",
       "14          15       True                     5.7                     5.8   \n",
       "\n",
       "    Female  Age  SBP    BMI  \n",
       "0    False   43  123  25.43  \n",
       "1    False   47  128  26.28  \n",
       "2     True   55  120  28.21  \n",
       "3     True   54  132  25.98  \n",
       "4     True   40  111  26.22  \n",
       "5    False   48  135  27.68  \n",
       "6     True   36  101  25.53  \n",
       "7    False   45  113  30.50  \n",
       "8     True   50  113  28.68  \n",
       "9    False   35  115  28.84  \n",
       "10    True   62  121  29.56  \n",
       "11   False   46  125  29.42  \n",
       "12   False   54  133  28.37  \n",
       "13    True   49  113  26.01  \n",
       "14    True   64  120  25.53  "
      ]
     },
     "execution_count": 2,
     "metadata": {},
     "output_type": "execute_result"
    }
   ],
   "source": [
    "data = pd.read_csv('diabetes.csv')\n",
    "data.head(15)"
   ]
  },
  {
   "cell_type": "markdown",
   "id": "7b2241b0",
   "metadata": {},
   "source": [
    "### 2. Show rows 15 to 25 with the column “BMI”."
   ]
  },
  {
   "cell_type": "code",
   "execution_count": 3,
   "id": "6f91f664",
   "metadata": {},
   "outputs": [
    {
     "name": "stdout",
     "output_type": "stream",
     "text": [
      "14    25.53\n",
      "15    31.78\n",
      "16    32.61\n",
      "17    28.26\n",
      "18    29.75\n",
      "19    26.67\n",
      "20    30.29\n",
      "21    31.88\n",
      "22    32.60\n",
      "23    26.74\n",
      "24    29.34\n",
      "Name: BMI, dtype: float64\n"
     ]
    }
   ],
   "source": [
    "df = pd.DataFrame(data)\n",
    "print(df.loc[14:24, 'BMI'])"
   ]
  },
  {
   "cell_type": "markdown",
   "id": "0423f6d7",
   "metadata": {},
   "source": [
    "### 3. Show rows 25 through 50 with the columns \"Age\" and \"BMI”."
   ]
  },
  {
   "cell_type": "code",
   "execution_count": 4,
   "id": "c0b8245b",
   "metadata": {},
   "outputs": [
    {
     "name": "stdout",
     "output_type": "stream",
     "text": [
      "    Age    BMI\n",
      "24   54  29.34\n",
      "25   51  25.68\n",
      "26   67  28.91\n",
      "27   32  33.37\n",
      "28   49  29.42\n",
      "29   59  29.95\n",
      "30   36  30.53\n",
      "31   56  28.68\n",
      "32   48  29.26\n",
      "33   48  28.41\n",
      "34   35  30.53\n",
      "35   66  28.64\n",
      "36   47  28.63\n",
      "37   38  29.59\n",
      "38   65  31.99\n",
      "39   54  35.18\n",
      "40   35  26.72\n",
      "41   41  31.30\n",
      "42   41  30.30\n",
      "43   59  30.93\n",
      "44   51  27.08\n",
      "45   43  28.44\n",
      "46   72  29.04\n",
      "47   46  27.81\n",
      "48   57  26.77\n",
      "49   67  27.32\n"
     ]
    }
   ],
   "source": [
    "print(df.loc[24:49, ['Age', 'BMI']])"
   ]
  },
  {
   "cell_type": "markdown",
   "id": "d17137e0",
   "metadata": {},
   "source": [
    "### 4. Show the systolic blood pressure (SBP) and BMI of female patients that are 65 or older."
   ]
  },
  {
   "cell_type": "code",
   "execution_count": 5,
   "id": "cdbcb2d6",
   "metadata": {},
   "outputs": [
    {
     "name": "stdout",
     "output_type": "stream",
     "text": [
      "     SBP    BMI\n",
      "26   136  28.91\n",
      "46   131  29.04\n",
      "49   131  27.32\n",
      "53   107  23.02\n",
      "56   158  36.47\n",
      "60   143  31.59\n",
      "73   151  34.49\n",
      "97   124  28.29\n",
      "100  147  29.48\n",
      "109  139  32.34\n",
      "111  148  32.63\n",
      "116  135  27.97\n",
      "127  129  26.38\n",
      "128  125  32.97\n",
      "137  138  37.08\n",
      "162  143  36.68\n",
      "168  150  27.82\n",
      "169  123  29.74\n",
      "174  125  30.25\n",
      "190  155  35.09\n",
      "216  147  35.43\n",
      "217  116  30.42\n",
      "254  153  32.14\n",
      "262  149  36.80\n",
      "293  155  34.58\n",
      "298  128  27.84\n",
      "302  148  30.38\n",
      "306  125  29.92\n",
      "316  121  30.00\n",
      "319  137  32.77\n",
      "327  174  39.63\n",
      "331  124  31.26\n",
      "332  138  32.89\n",
      "339  163  33.32\n",
      "368  131  30.29\n",
      "373  152  36.74\n",
      "391  145  33.31\n",
      "413  139  30.12\n",
      "424  138  34.06\n",
      "434  133  32.39\n",
      "437  122  29.02\n",
      "446  163  37.02\n",
      "462  141  33.47\n",
      "489  149  31.27\n",
      "495  145  36.01\n",
      "518  129  29.31\n"
     ]
    }
   ],
   "source": [
    "temp = (data[ (data[\"Female\"] == True) & (data[\"Age\"] >= 65) ])[['SBP', 'BMI']]\n",
    "# print(len(temp)) # 46\n",
    "print(temp)"
   ]
  },
  {
   "cell_type": "markdown",
   "id": "c32493db",
   "metadata": {},
   "source": [
    "### 5. Show the mean and standard deviation of the BMI of obese female patients (BMI 25.0 to <30)."
   ]
  },
  {
   "cell_type": "code",
   "execution_count": 6,
   "id": "be9fd28c",
   "metadata": {},
   "outputs": [
    {
     "name": "stdout",
     "output_type": "stream",
     "text": [
      "Mean is :  28.525375000000004\n",
      "Standard Deviation is :  1.134859544925653\n"
     ]
    }
   ],
   "source": [
    "obese_diabetes = (data[ (data[\"Female\"] == True) & (data[\"BMI\"] >= 25.0) \n",
    "                     & (data[\"BMI\"] < 30) ])[\"BMI\"]\n",
    "# print(obese_diabetes)  # 80\n",
    "if len(obese_diabetes) > 0:\n",
    "  obese_diabetes_mean = obese_diabetes.mean()\n",
    "#   obese_diabetes_median = obese_diabetes.median()\n",
    "  obese_diabetes_sd = obese_diabetes.std()\n",
    "print(\"Mean is : \", obese_diabetes_mean)\n",
    "# print(\"Median is : \", obese_diabetes_median)\n",
    "print(\"Standard Deviation is : \", obese_diabetes_sd)"
   ]
  },
  {
   "cell_type": "markdown",
   "id": "e7d169aa",
   "metadata": {},
   "source": [
    "### 6. Create histograms for Hemoglobin A1C (baseline and follow-up), SBP, and BMI."
   ]
  },
  {
   "cell_type": "code",
   "execution_count": 7,
   "id": "f13d8ce5",
   "metadata": {},
   "outputs": [
    {
     "data": {
      "image/png": "[encoded data removed]",
      "text/plain": [
       "<Figure size 432x288 with 4 Axes>"
      ]
     },
     "metadata": {
      "needs_background": "light"
     },
     "output_type": "display_data"
    }
   ],
   "source": [
    "# A1C_followup = data['HemoglobinA1C.Followup']\n",
    "# A1C_followup.hist()\n",
    "data.hist(column = ['HemoglobinA1C.Followup', 'HemoglobinA1C.Baseline',  'SBP', 'BMI'])\n",
    "plt.show()"
   ]
  },
  {
   "cell_type": "markdown",
   "id": "138fe15c",
   "metadata": {},
   "source": [
    "### 7. Show the mean of the BMI of men who are obese (BMI over 30)."
   ]
  },
  {
   "cell_type": "code",
   "execution_count": 8,
   "id": "950af640",
   "metadata": {},
   "outputs": [
    {
     "name": "stdout",
     "output_type": "stream",
     "text": [
      "Mean is :  33.15818652849741\n"
     ]
    }
   ],
   "source": [
    "men_diabetes = (data[ (data[\"Female\"] == False) \n",
    "                     & (data[\"BMI\"] > 30) ])[\"BMI\"]\n",
    "# print(men_diabetes)  # 193\n",
    "if len(men_diabetes) > 0:\n",
    "  men_diabetes_mean = men_diabetes.mean()\n",
    "print(\"Mean is : \", men_diabetes_mean)"
   ]
  },
  {
   "cell_type": "markdown",
   "id": "e69a9b43",
   "metadata": {},
   "source": [
    "### 8. Show the total number of patients with normal blood pressure (systolic blood pressure less than 120 mm Hg)."
   ]
  },
  {
   "cell_type": "code",
   "execution_count": 9,
   "id": "28976a29",
   "metadata": {},
   "outputs": [
    {
     "name": "stdout",
     "output_type": "stream",
     "text": [
      "total number of patients is:  80\n"
     ]
    }
   ],
   "source": [
    "normal_SBP = (data[data[\"SBP\"] < 120])[\"SBP\"]\n",
    "# print(normal_SBP)  # 80\n",
    "print(\"total number of patients is: \", len(normal_SBP))"
   ]
  },
  {
   "cell_type": "markdown",
   "id": "418e7782",
   "metadata": {},
   "source": [
    "### 9. Show the percentage of females with high blood pressure (SBP of 130 mm Hg or higher)."
   ]
  },
  {
   "cell_type": "code",
   "execution_count": 16,
   "id": "994ca5ef",
   "metadata": {},
   "outputs": [
    {
     "name": "stdout",
     "output_type": "stream",
     "text": [
      "the percentage of females with high SBP is:  51.50375939849624 %\n"
     ]
    }
   ],
   "source": [
    "high_SBP = (data[ (data[\"SBP\"] >= 130) & (data[\"Female\"] == True) ] )[\"SBP\"]\n",
    "total_Female = data[data[\"Female\"] == True]\n",
    "print(\"the percentage of females with high SBP is: \", len(high_SBP) / len(total_Female) * 100, \"%\")"
   ]
  },
  {
   "cell_type": "markdown",
   "id": "06b6ef34",
   "metadata": {},
   "source": [
    "### 10.Build a bar chart of the number of patients by the blood sugar levels (normal, prediabetes, and diabetes) at baseline.\n",
    "- A normal A1C level is below 5.7%.\n",
    "- A level of 5.7% to 6.4% indicates prediabetes.\n",
    "- A level of 6.5% or more indicates diabetes."
   ]
  },
  {
   "cell_type": "code",
   "execution_count": 17,
   "id": "a0119918",
   "metadata": {},
   "outputs": [
    {
     "data": {
      "text/plain": [
       "Text(0, 0.5, 'the number of patients')"
      ]
     },
     "execution_count": 17,
     "metadata": {},
     "output_type": "execute_result"
    },
    {
     "data": {
      "image/png": "[encoded data removed]",
      "text/plain": [
       "<Figure size 432x288 with 1 Axes>"
      ]
     },
     "metadata": {
      "needs_background": "light"
     },
     "output_type": "display_data"
    }
   ],
   "source": [
    "plotdata = pd.DataFrame(\n",
    "    {\"the number of patients\": \n",
    "     [len((data[(data[\"HemoglobinA1C.Baseline\"])<5.7])[\"HemoglobinA1C.Baseline\"]),\n",
    "      len((data[ (data[\"HemoglobinA1C.Baseline\"]>=5.7) & (data[\"HemoglobinA1C.Baseline\"]<=6.4) ])[\"HemoglobinA1C.Baseline\"]), \n",
    "      len((data[(data[\"HemoglobinA1C.Baseline\"])>=6.5])[\"HemoglobinA1C.Baseline\"])]\n",
    "    }, \n",
    "    index = [\"normal\", \"pre_diabetes\", \"diabetes\"])\n",
    "\n",
    "plotdata.plot(kind=\"bar\")\n",
    "plt.title(\"the number of patients by the blood sugar levels at baseline.\")\n",
    "plt.xlabel(\"the blood sugar levels (normal, prediabetes, and diabetes)\")\n",
    "plt.ylabel(\"the number of patients\")\n"
   ]
  },
  {
   "cell_type": "code",
   "execution_count": null,
   "id": "dc57095a",
   "metadata": {},
   "outputs": [],
   "source": []
  }
 ],
 "metadata": {
  "kernelspec": {
   "display_name": "Python 3 (ipykernel)",
   "language": "python",
   "name": "python3"
  },
  "language_info": {
   "codemirror_mode": {
    "name": "ipython",
    "version": 3
   },
   "file_extension": ".py",
   "mimetype": "text/x-python",
   "name": "python",
   "nbconvert_exporter": "python",
   "pygments_lexer": "ipython3",
   "version": "3.9.7"
  }
 },
 "nbformat": 4,
 "nbformat_minor": 5
}
