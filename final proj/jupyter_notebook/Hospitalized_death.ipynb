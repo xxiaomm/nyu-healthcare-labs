{
 "cells": [
  {
   "cell_type": "markdown",
   "id": "b80a9212",
   "metadata": {},
   "source": [
    "# Discussion the relationship between 'HOSPITALIZED_COUNT' and 'DEATH_COUNT\t'"
   ]
  },
  {
   "cell_type": "code",
   "execution_count": 30,
   "id": "eefd10e9",
   "metadata": {},
   "outputs": [],
   "source": [
    "# https://codeantenna.com/a/zwpe6thnM7\n",
    "import pandas as pd\n",
    "import numpy as np\n",
    "import statsmodels.api as sm\n",
    "from sklearn.datasets import load_boston\n",
    "from sklearn.linear_model import LinearRegression,SGDRegressor,Ridge\n",
    "from sklearn.model_selection import train_test_split\n",
    "from sklearn.preprocessing import StandardScaler\n",
    "from sklearn.metrics import mean_squared_error"
   ]
  },
  {
   "cell_type": "markdown",
   "id": "7c2cec79",
   "metadata": {},
   "source": [
    "## Import data"
   ]
  },
  {
   "cell_type": "code",
   "execution_count": 31,
   "id": "aa26ab30",
   "metadata": {},
   "outputs": [
    {
     "data": {
      "text/html": [
       "<div>\n",
       "<style scoped>\n",
       "    .dataframe tbody tr th:only-of-type {\n",
       "        vertical-align: middle;\n",
       "    }\n",
       "\n",
       "    .dataframe tbody tr th {\n",
       "        vertical-align: top;\n",
       "    }\n",
       "\n",
       "    .dataframe thead th {\n",
       "        text-align: right;\n",
       "    }\n",
       "</style>\n",
       "<table border=\"1\" class=\"dataframe\">\n",
       "  <thead>\n",
       "    <tr style=\"text-align: right;\">\n",
       "      <th></th>\n",
       "      <th>date_of_interest</th>\n",
       "      <th>CASE_COUNT</th>\n",
       "      <th>PROBABLE_CASE_COUNT</th>\n",
       "      <th>HOSPITALIZED_COUNT</th>\n",
       "      <th>DEATH_COUNT</th>\n",
       "      <th>PROBABLE_DEATH_COUNT</th>\n",
       "      <th>CASE_COUNT_7DAY_AVG</th>\n",
       "      <th>ALL_CASE_COUNT_7DAY_AVG</th>\n",
       "      <th>HOSP_COUNT_7DAY_AVG</th>\n",
       "      <th>DEATH_COUNT_7DAY_AVG</th>\n",
       "      <th>...</th>\n",
       "      <th>SI_HOSPITALIZED_COUNT</th>\n",
       "      <th>SI_DEATH_COUNT</th>\n",
       "      <th>SI_PROBABLE_DEATH_COUNT</th>\n",
       "      <th>SI_CASE_COUNT_7DAY_AVG</th>\n",
       "      <th>SI_PROBABLE_CASE_COUNT_7DAY_AVG</th>\n",
       "      <th>SI_ALL_CASE_COUNT_7DAY_AVG</th>\n",
       "      <th>SI_HOSPITALIZED_COUNT_7DAY_AVG</th>\n",
       "      <th>SI_DEATH_COUNT_7DAY_AVG</th>\n",
       "      <th>SI_ALL_DEATH_COUNT_7DAY_AVG</th>\n",
       "      <th>INCOMPLETE</th>\n",
       "    </tr>\n",
       "  </thead>\n",
       "  <tbody>\n",
       "    <tr>\n",
       "      <th>0</th>\n",
       "      <td>02/29/2020</td>\n",
       "      <td>1</td>\n",
       "      <td>0</td>\n",
       "      <td>1</td>\n",
       "      <td>0</td>\n",
       "      <td>0</td>\n",
       "      <td>0</td>\n",
       "      <td>0</td>\n",
       "      <td>0</td>\n",
       "      <td>0</td>\n",
       "      <td>...</td>\n",
       "      <td>0</td>\n",
       "      <td>0</td>\n",
       "      <td>0</td>\n",
       "      <td>0</td>\n",
       "      <td>0</td>\n",
       "      <td>0</td>\n",
       "      <td>0</td>\n",
       "      <td>0</td>\n",
       "      <td>0</td>\n",
       "      <td>0</td>\n",
       "    </tr>\n",
       "    <tr>\n",
       "      <th>1</th>\n",
       "      <td>03/01/2020</td>\n",
       "      <td>0</td>\n",
       "      <td>0</td>\n",
       "      <td>1</td>\n",
       "      <td>0</td>\n",
       "      <td>0</td>\n",
       "      <td>0</td>\n",
       "      <td>0</td>\n",
       "      <td>0</td>\n",
       "      <td>0</td>\n",
       "      <td>...</td>\n",
       "      <td>0</td>\n",
       "      <td>0</td>\n",
       "      <td>0</td>\n",
       "      <td>0</td>\n",
       "      <td>0</td>\n",
       "      <td>0</td>\n",
       "      <td>0</td>\n",
       "      <td>0</td>\n",
       "      <td>0</td>\n",
       "      <td>0</td>\n",
       "    </tr>\n",
       "    <tr>\n",
       "      <th>2</th>\n",
       "      <td>03/02/2020</td>\n",
       "      <td>0</td>\n",
       "      <td>0</td>\n",
       "      <td>2</td>\n",
       "      <td>0</td>\n",
       "      <td>0</td>\n",
       "      <td>0</td>\n",
       "      <td>0</td>\n",
       "      <td>0</td>\n",
       "      <td>0</td>\n",
       "      <td>...</td>\n",
       "      <td>0</td>\n",
       "      <td>0</td>\n",
       "      <td>0</td>\n",
       "      <td>0</td>\n",
       "      <td>0</td>\n",
       "      <td>0</td>\n",
       "      <td>0</td>\n",
       "      <td>0</td>\n",
       "      <td>0</td>\n",
       "      <td>0</td>\n",
       "    </tr>\n",
       "    <tr>\n",
       "      <th>3</th>\n",
       "      <td>03/03/2020</td>\n",
       "      <td>1</td>\n",
       "      <td>0</td>\n",
       "      <td>7</td>\n",
       "      <td>0</td>\n",
       "      <td>0</td>\n",
       "      <td>0</td>\n",
       "      <td>0</td>\n",
       "      <td>0</td>\n",
       "      <td>0</td>\n",
       "      <td>...</td>\n",
       "      <td>0</td>\n",
       "      <td>0</td>\n",
       "      <td>0</td>\n",
       "      <td>0</td>\n",
       "      <td>0</td>\n",
       "      <td>0</td>\n",
       "      <td>0</td>\n",
       "      <td>0</td>\n",
       "      <td>0</td>\n",
       "      <td>0</td>\n",
       "    </tr>\n",
       "    <tr>\n",
       "      <th>4</th>\n",
       "      <td>03/04/2020</td>\n",
       "      <td>5</td>\n",
       "      <td>0</td>\n",
       "      <td>2</td>\n",
       "      <td>0</td>\n",
       "      <td>0</td>\n",
       "      <td>0</td>\n",
       "      <td>0</td>\n",
       "      <td>0</td>\n",
       "      <td>0</td>\n",
       "      <td>...</td>\n",
       "      <td>0</td>\n",
       "      <td>0</td>\n",
       "      <td>0</td>\n",
       "      <td>0</td>\n",
       "      <td>0</td>\n",
       "      <td>0</td>\n",
       "      <td>0</td>\n",
       "      <td>0</td>\n",
       "      <td>0</td>\n",
       "      <td>0</td>\n",
       "    </tr>\n",
       "  </tbody>\n",
       "</table>\n",
       "<p>5 rows × 67 columns</p>\n",
       "</div>"
      ],
      "text/plain": [
       "  date_of_interest  CASE_COUNT  PROBABLE_CASE_COUNT  HOSPITALIZED_COUNT  \\\n",
       "0       02/29/2020           1                    0                   1   \n",
       "1       03/01/2020           0                    0                   1   \n",
       "2       03/02/2020           0                    0                   2   \n",
       "3       03/03/2020           1                    0                   7   \n",
       "4       03/04/2020           5                    0                   2   \n",
       "\n",
       "   DEATH_COUNT  PROBABLE_DEATH_COUNT  CASE_COUNT_7DAY_AVG  \\\n",
       "0            0                     0                    0   \n",
       "1            0                     0                    0   \n",
       "2            0                     0                    0   \n",
       "3            0                     0                    0   \n",
       "4            0                     0                    0   \n",
       "\n",
       "   ALL_CASE_COUNT_7DAY_AVG  HOSP_COUNT_7DAY_AVG  DEATH_COUNT_7DAY_AVG  ...  \\\n",
       "0                        0                    0                     0  ...   \n",
       "1                        0                    0                     0  ...   \n",
       "2                        0                    0                     0  ...   \n",
       "3                        0                    0                     0  ...   \n",
       "4                        0                    0                     0  ...   \n",
       "\n",
       "   SI_HOSPITALIZED_COUNT  SI_DEATH_COUNT  SI_PROBABLE_DEATH_COUNT  \\\n",
       "0                      0               0                        0   \n",
       "1                      0               0                        0   \n",
       "2                      0               0                        0   \n",
       "3                      0               0                        0   \n",
       "4                      0               0                        0   \n",
       "\n",
       "   SI_CASE_COUNT_7DAY_AVG  SI_PROBABLE_CASE_COUNT_7DAY_AVG  \\\n",
       "0                       0                                0   \n",
       "1                       0                                0   \n",
       "2                       0                                0   \n",
       "3                       0                                0   \n",
       "4                       0                                0   \n",
       "\n",
       "   SI_ALL_CASE_COUNT_7DAY_AVG  SI_HOSPITALIZED_COUNT_7DAY_AVG  \\\n",
       "0                           0                               0   \n",
       "1                           0                               0   \n",
       "2                           0                               0   \n",
       "3                           0                               0   \n",
       "4                           0                               0   \n",
       "\n",
       "   SI_DEATH_COUNT_7DAY_AVG  SI_ALL_DEATH_COUNT_7DAY_AVG  INCOMPLETE  \n",
       "0                        0                            0           0  \n",
       "1                        0                            0           0  \n",
       "2                        0                            0           0  \n",
       "3                        0                            0           0  \n",
       "4                        0                            0           0  \n",
       "\n",
       "[5 rows x 67 columns]"
      ]
     },
     "execution_count": 31,
     "metadata": {},
     "output_type": "execute_result"
    }
   ],
   "source": [
    "data = pd.read_csv('data-by-day.csv')\n",
    "data.head()"
   ]
  },
  {
   "cell_type": "code",
   "execution_count": 32,
   "id": "3a97cd3a",
   "metadata": {},
   "outputs": [
    {
     "data": {
      "text/plain": [
       "date_of_interest                  object\n",
       "CASE_COUNT                         int64\n",
       "PROBABLE_CASE_COUNT                int64\n",
       "HOSPITALIZED_COUNT                 int64\n",
       "DEATH_COUNT                        int64\n",
       "                                   ...  \n",
       "SI_ALL_CASE_COUNT_7DAY_AVG         int64\n",
       "SI_HOSPITALIZED_COUNT_7DAY_AVG     int64\n",
       "SI_DEATH_COUNT_7DAY_AVG            int64\n",
       "SI_ALL_DEATH_COUNT_7DAY_AVG        int64\n",
       "INCOMPLETE                         int64\n",
       "Length: 67, dtype: object"
      ]
     },
     "execution_count": 32,
     "metadata": {},
     "output_type": "execute_result"
    }
   ],
   "source": [
    "data.dtypes"
   ]
  },
  {
   "cell_type": "markdown",
   "id": "8bf1853e",
   "metadata": {},
   "source": [
    "## Split data into training data and test data"
   ]
  },
  {
   "cell_type": "code",
   "execution_count": 33,
   "id": "3e95f735",
   "metadata": {},
   "outputs": [],
   "source": [
    "feature = ['HOSPITALIZED_COUNT']\n",
    "x = data[feature]\n",
    "y = data['DEATH_COUNT']\n",
    "x_train,x_test,y_train,y_test = train_test_split(x,y,test_size=0.25)"
   ]
  },
  {
   "cell_type": "markdown",
   "id": "c04045dd",
   "metadata": {},
   "source": [
    "# SVM\n",
    "## Build model"
   ]
  },
  {
   "cell_type": "code",
   "execution_count": 34,
   "id": "4a2d6323",
   "metadata": {},
   "outputs": [
    {
     "data": {
      "text/html": [
       "<style>#sk-container-id-4 {color: black;background-color: white;}#sk-container-id-4 pre{padding: 0;}#sk-container-id-4 div.sk-toggleable {background-color: white;}#sk-container-id-4 label.sk-toggleable__label {cursor: pointer;display: block;width: 100%;margin-bottom: 0;padding: 0.3em;box-sizing: border-box;text-align: center;}#sk-container-id-4 label.sk-toggleable__label-arrow:before {content: \"▸\";float: left;margin-right: 0.25em;color: #696969;}#sk-container-id-4 label.sk-toggleable__label-arrow:hover:before {color: black;}#sk-container-id-4 div.sk-estimator:hover label.sk-toggleable__label-arrow:before {color: black;}#sk-container-id-4 div.sk-toggleable__content {max-height: 0;max-width: 0;overflow: hidden;text-align: left;background-color: #f0f8ff;}#sk-container-id-4 div.sk-toggleable__content pre {margin: 0.2em;color: black;border-radius: 0.25em;background-color: #f0f8ff;}#sk-container-id-4 input.sk-toggleable__control:checked~div.sk-toggleable__content {max-height: 200px;max-width: 100%;overflow: auto;}#sk-container-id-4 input.sk-toggleable__control:checked~label.sk-toggleable__label-arrow:before {content: \"▾\";}#sk-container-id-4 div.sk-estimator input.sk-toggleable__control:checked~label.sk-toggleable__label {background-color: #d4ebff;}#sk-container-id-4 div.sk-label input.sk-toggleable__control:checked~label.sk-toggleable__label {background-color: #d4ebff;}#sk-container-id-4 input.sk-hidden--visually {border: 0;clip: rect(1px 1px 1px 1px);clip: rect(1px, 1px, 1px, 1px);height: 1px;margin: -1px;overflow: hidden;padding: 0;position: absolute;width: 1px;}#sk-container-id-4 div.sk-estimator {font-family: monospace;background-color: #f0f8ff;border: 1px dotted black;border-radius: 0.25em;box-sizing: border-box;margin-bottom: 0.5em;}#sk-container-id-4 div.sk-estimator:hover {background-color: #d4ebff;}#sk-container-id-4 div.sk-parallel-item::after {content: \"\";width: 100%;border-bottom: 1px solid gray;flex-grow: 1;}#sk-container-id-4 div.sk-label:hover label.sk-toggleable__label {background-color: #d4ebff;}#sk-container-id-4 div.sk-serial::before {content: \"\";position: absolute;border-left: 1px solid gray;box-sizing: border-box;top: 0;bottom: 0;left: 50%;z-index: 0;}#sk-container-id-4 div.sk-serial {display: flex;flex-direction: column;align-items: center;background-color: white;padding-right: 0.2em;padding-left: 0.2em;position: relative;}#sk-container-id-4 div.sk-item {position: relative;z-index: 1;}#sk-container-id-4 div.sk-parallel {display: flex;align-items: stretch;justify-content: center;background-color: white;position: relative;}#sk-container-id-4 div.sk-item::before, #sk-container-id-4 div.sk-parallel-item::before {content: \"\";position: absolute;border-left: 1px solid gray;box-sizing: border-box;top: 0;bottom: 0;left: 50%;z-index: -1;}#sk-container-id-4 div.sk-parallel-item {display: flex;flex-direction: column;z-index: 1;position: relative;background-color: white;}#sk-container-id-4 div.sk-parallel-item:first-child::after {align-self: flex-end;width: 50%;}#sk-container-id-4 div.sk-parallel-item:last-child::after {align-self: flex-start;width: 50%;}#sk-container-id-4 div.sk-parallel-item:only-child::after {width: 0;}#sk-container-id-4 div.sk-dashed-wrapped {border: 1px dashed gray;margin: 0 0.4em 0.5em 0.4em;box-sizing: border-box;padding-bottom: 0.4em;background-color: white;}#sk-container-id-4 div.sk-label label {font-family: monospace;font-weight: bold;display: inline-block;line-height: 1.2em;}#sk-container-id-4 div.sk-label-container {text-align: center;}#sk-container-id-4 div.sk-container {/* jupyter's `normalize.less` sets `[hidden] { display: none; }` but bootstrap.min.css set `[hidden] { display: none !important; }` so we also need the `!important` here to be able to override the default hidden behavior on the sphinx rendered scikit-learn.org. See: https://github.com/scikit-learn/scikit-learn/issues/21755 */display: inline-block !important;position: relative;}#sk-container-id-4 div.sk-text-repr-fallback {display: none;}</style><div id=\"sk-container-id-4\" class=\"sk-top-container\"><div class=\"sk-text-repr-fallback\"><pre>GridSearchCV(cv=3, estimator=SVR(),\n",
       "             param_grid={&#x27;C&#x27;: [0.5], &#x27;gamma&#x27;: [5e-05],\n",
       "                         &#x27;kernel&#x27;: [&#x27;rbf&#x27;, &#x27;linear&#x27;]})</pre><b>In a Jupyter environment, please rerun this cell to show the HTML representation or trust the notebook. <br />On GitHub, the HTML representation is unable to render, please try loading this page with nbviewer.org.</b></div><div class=\"sk-container\" hidden><div class=\"sk-item sk-dashed-wrapped\"><div class=\"sk-label-container\"><div class=\"sk-label sk-toggleable\"><input class=\"sk-toggleable__control sk-hidden--visually\" id=\"sk-estimator-id-10\" type=\"checkbox\" ><label for=\"sk-estimator-id-10\" class=\"sk-toggleable__label sk-toggleable__label-arrow\">GridSearchCV</label><div class=\"sk-toggleable__content\"><pre>GridSearchCV(cv=3, estimator=SVR(),\n",
       "             param_grid={&#x27;C&#x27;: [0.5], &#x27;gamma&#x27;: [5e-05],\n",
       "                         &#x27;kernel&#x27;: [&#x27;rbf&#x27;, &#x27;linear&#x27;]})</pre></div></div></div><div class=\"sk-parallel\"><div class=\"sk-parallel-item\"><div class=\"sk-item\"><div class=\"sk-label-container\"><div class=\"sk-label sk-toggleable\"><input class=\"sk-toggleable__control sk-hidden--visually\" id=\"sk-estimator-id-11\" type=\"checkbox\" ><label for=\"sk-estimator-id-11\" class=\"sk-toggleable__label sk-toggleable__label-arrow\">estimator: SVR</label><div class=\"sk-toggleable__content\"><pre>SVR()</pre></div></div></div><div class=\"sk-serial\"><div class=\"sk-item\"><div class=\"sk-estimator sk-toggleable\"><input class=\"sk-toggleable__control sk-hidden--visually\" id=\"sk-estimator-id-12\" type=\"checkbox\" ><label for=\"sk-estimator-id-12\" class=\"sk-toggleable__label sk-toggleable__label-arrow\">SVR</label><div class=\"sk-toggleable__content\"><pre>SVR()</pre></div></div></div></div></div></div></div></div></div></div>"
      ],
      "text/plain": [
       "GridSearchCV(cv=3, estimator=SVR(),\n",
       "             param_grid={'C': [0.5], 'gamma': [5e-05],\n",
       "                         'kernel': ['rbf', 'linear']})"
      ]
     },
     "execution_count": 34,
     "metadata": {},
     "output_type": "execute_result"
    }
   ],
   "source": [
    "from sklearn.model_selection import GridSearchCV\n",
    "from sklearn.svm import SVR\n",
    "import matplotlib.pyplot as plt\n",
    "import warnings\n",
    "warnings.filterwarnings('ignore')  # \"error\", \"ignore\", \"always\", \"default\", \"module\" or \"once\"\n",
    "\n",
    "# https://github.com/Wasim37/machine_learning_code/blob/master/04%20%E6%94%AF%E6%8C%81%E5%90%91%E9%87%8F%E6%9C%BA%20SVM/notebook/08_%E6%A1%88%E4%BE%8B%E5%85%AB%EF%BC%9A%E4%BD%BF%E7%94%A8SVM%E9%A2%84%E6%B5%8B%E6%B3%A2%E5%A3%AB%E9%A1%BF%E6%88%BF%E4%BB%B7.ipynb\n",
    "# https://zhuanlan.zhihu.com/p/500835231\n",
    "# https://blog.csdn.net/qq_41897304/article/details/121777109\n",
    "## 模型构建（参数类型和SVC基本一样）\n",
    "parameters = {\n",
    "    'kernel': ['rbf', 'linear'],\n",
    "    'C': [0.5],\n",
    "    'gamma': [0.00005]\n",
    "}\n",
    "model = GridSearchCV(SVR(), param_grid=parameters, cv=3)\n",
    "model.fit(x_train, y_train)"
   ]
  },
  {
   "cell_type": "code",
   "execution_count": 35,
   "id": "a20e9e22",
   "metadata": {},
   "outputs": [
    {
     "name": "stdout",
     "output_type": "stream",
     "text": [
      "最优参数列表: {'C': 0.5, 'gamma': 5e-05, 'kernel': 'linear'}\n",
      "最优模型: SVR(C=0.5, gamma=5e-05, kernel='linear')\n",
      "最优准确率: 0.5007732810958182\n"
     ]
    }
   ],
   "source": [
    "## 获取最优参数\n",
    "print (\"最优参数列表:\", model.best_params_)\n",
    "print (\"最优模型:\", model.best_estimator_)\n",
    "print (\"最优准确率:\", model.best_score_)"
   ]
  },
  {
   "cell_type": "markdown",
   "id": "41ef0576",
   "metadata": {},
   "source": [
    "## Visualization"
   ]
  },
  {
   "cell_type": "code",
   "execution_count": 36,
   "id": "0e092c2b",
   "metadata": {},
   "outputs": [
    {
     "data": {
      "image/png": "[encoded data removed]",
      "text/plain": [
       "<Figure size 1152x576 with 1 Axes>"
      ]
     },
     "metadata": {},
     "output_type": "display_data"
    }
   ],
   "source": [
    "colors = ['g-', 'b-']\n",
    "ln_x_test = range(len(x_test))\n",
    "y_predict = model.predict(x_test)\n",
    "\n",
    "plt.figure(figsize=(16,8), facecolor='w')\n",
    "plt.plot(ln_x_test, y_test, 'r-', lw=2, label=u'true')\n",
    "plt.plot(ln_x_test, y_predict, 'g-', lw = 3, label=u'predict,$R^2$=%.3f' % (model.best_score_))\n",
    "\n",
    "plt.legend(loc = 'upper left')\n",
    "plt.grid(True)\n",
    "plt.title(u\"The prediction of count of covid cases(SVM)\")\n",
    "plt.xlim(0, 250)\n",
    "plt.show()"
   ]
  },
  {
   "cell_type": "markdown",
   "id": "19fb378d",
   "metadata": {},
   "source": [
    "## Accuracy"
   ]
  },
  {
   "cell_type": "code",
   "execution_count": 37,
   "id": "2fcacb7d",
   "metadata": {},
   "outputs": [
    {
     "name": "stdout",
     "output_type": "stream",
     "text": [
      "the accuracy on training data: 52.99%\n",
      "the accuracy on test data: 57.06%\n"
     ]
    }
   ],
   "source": [
    "print (\"the accuracy on training data: %.2f%%\" % (model.score(x_train, y_train) * 100))\n",
    "print (\"the accuracy on test data: %.2f%%\" % (model.score(x_test, y_test) * 100))"
   ]
  },
  {
   "cell_type": "code",
   "execution_count": 44,
   "id": "ed84edcf",
   "metadata": {},
   "outputs": [
    {
     "name": "stdout",
     "output_type": "stream",
     "text": [
      "                            OLS Regression Results                            \n",
      "==============================================================================\n",
      "Dep. Variable:            DEATH_COUNT   R-squared:                       0.595\n",
      "Model:                            OLS   Adj. R-squared:                  0.594\n",
      "Method:                 Least Squares   F-statistic:                     1476.\n",
      "Date:                Thu, 08 Dec 2022   Prob (F-statistic):          1.61e-199\n",
      "Time:                        17:55:44   Log-Likelihood:                -5380.0\n",
      "No. Observations:                1008   AIC:                         1.076e+04\n",
      "Df Residuals:                    1006   BIC:                         1.077e+04\n",
      "Df Model:                           1                                         \n",
      "Covariance Type:            nonrobust                                         \n",
      "======================================================================================\n",
      "                         coef    std err          t      P>|t|      [0.025      0.975]\n",
      "--------------------------------------------------------------------------------------\n",
      "const                 -5.1881      1.925     -2.695      0.007      -8.966      -1.410\n",
      "HOSPITALIZED_COUNT     0.2394      0.006     38.423      0.000       0.227       0.252\n",
      "==============================================================================\n",
      "Omnibus:                      511.790   Durbin-Watson:                   0.074\n",
      "Prob(Omnibus):                  0.000   Jarque-Bera (JB):             9611.679\n",
      "Skew:                           1.878   Prob(JB):                         0.00\n",
      "Kurtosis:                      17.654   Cond. No.                         375.\n",
      "==============================================================================\n",
      "\n",
      "Notes:\n",
      "[1] Standard Errors assume that the covariance matrix of the errors is correctly specified.\n"
     ]
    }
   ],
   "source": [
    "# import statsmodels.api as sm\n",
    "X_new = sm.add_constant(x)\n",
    "regcorr = sm.OLS(y, X_new)\n",
    "stats = regcorr.fit()\n",
    "print(stats.summary())"
   ]
  },
  {
   "cell_type": "code",
   "execution_count": 45,
   "id": "4b80bbaa",
   "metadata": {},
   "outputs": [
    {
     "name": "stdout",
     "output_type": "stream",
     "text": [
      "the Coefficient of determination of test data： 0.5706197389824152\n",
      "the mean squared error of test data： 2370.770182437442\n",
      "the mean absolute error of test data： 18.396997929614813\n",
      "the median absolute error of test data： 6.443478260857383\n",
      "the explained_variance_score of test data： 0.5790800141700392\n"
     ]
    }
   ],
   "source": [
    "# from sklearn.svm import SVR\n",
    "import sklearn.metrics as metrics\n",
    "#最佳为1\n",
    "print(\"the Coefficient of determination of test data：\", \n",
    "      metrics.r2_score(y_test,y_predict))\n",
    "#均方误差是非负值，模型越好MSE越接近零。\n",
    "print(\"the mean squared error of test data：\", \n",
    "      metrics.mean_squared_error(y_test,y_predict))\n",
    "#平均绝对误差是非负值，模型越好MAE越接近零\n",
    "print(\"the mean absolute error of test data：\", \n",
    "      metrics.mean_absolute_error(y_test,y_predict))\n",
    "#中值绝对误差是非负值，模型越好越接近零。\n",
    "print(\"the median absolute error of test data：\", \n",
    "      metrics.median_absolute_error(y_test,y_predict))\n",
    "#最佳为1，模型越差值越小\n",
    "print(\"the explained_variance_score of test data：\", \n",
    "      metrics.explained_variance_score(y_test,y_predict))"
   ]
  },
  {
   "cell_type": "code",
   "execution_count": null,
   "id": "e70077e6",
   "metadata": {},
   "outputs": [],
   "source": []
  },
  {
   "cell_type": "code",
   "execution_count": null,
   "id": "27aecef5",
   "metadata": {},
   "outputs": [],
   "source": []
  },
  {
   "cell_type": "code",
   "execution_count": null,
   "id": "3d8a8e65",
   "metadata": {},
   "outputs": [],
   "source": []
  }
 ],
 "metadata": {
  "kernelspec": {
   "display_name": "Python 3 (ipykernel)",
   "language": "python",
   "name": "python3"
  },
  "language_info": {
   "codemirror_mode": {
    "name": "ipython",
    "version": 3
   },
   "file_extension": ".py",
   "mimetype": "text/x-python",
   "name": "python",
   "nbconvert_exporter": "python",
   "pygments_lexer": "ipython3",
   "version": "3.10.8 (main, Oct 13 2022, 10:17:43) [Clang 14.0.0 (clang-1400.0.29.102)]"
  },
  "vscode": {
   "interpreter": {
    "hash": "aee8b7b246df8f9039afb4144a1f6fd8d2ca17a180786b69acc140d282b71a49"
   }
  }
 },
 "nbformat": 4,
 "nbformat_minor": 5
}
