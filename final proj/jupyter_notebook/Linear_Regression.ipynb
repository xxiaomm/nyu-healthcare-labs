{
 "cells": [
  {
   "cell_type": "code",
   "execution_count": 1,
   "id": "71e497f2",
   "metadata": {},
   "outputs": [],
   "source": [
    "import numpy as np \n",
    "import pandas as pd \n",
    "from sklearn.model_selection import train_test_split \n",
    "from sklearn.tree import DecisionTreeClassifier, export_graphviz\n",
    "from sklearn.metrics import accuracy_score, classification_report\n",
    "from io import StringIO\n",
    "import pydotplus\n",
    "from IPython.display import Image\n",
    "import matplotlib.pyplot as plt\n",
    "\n",
    "from sklearn import svm\n",
    "from sklearn import metrics"
   ]
  },
  {
   "cell_type": "markdown",
   "id": "92665b57",
   "metadata": {},
   "source": [
    "## Data Wragging"
   ]
  },
  {
   "cell_type": "code",
   "execution_count": 2,
   "id": "af8bb7e8",
   "metadata": {},
   "outputs": [
    {
     "data": {
      "text/html": [
       "<div>\n",
       "<style scoped>\n",
       "    .dataframe tbody tr th:only-of-type {\n",
       "        vertical-align: middle;\n",
       "    }\n",
       "\n",
       "    .dataframe tbody tr th {\n",
       "        vertical-align: top;\n",
       "    }\n",
       "\n",
       "    .dataframe thead th {\n",
       "        text-align: right;\n",
       "    }\n",
       "</style>\n",
       "<table border=\"1\" class=\"dataframe\">\n",
       "  <thead>\n",
       "    <tr style=\"text-align: right;\">\n",
       "      <th></th>\n",
       "      <th>date</th>\n",
       "      <th>county</th>\n",
       "      <th>state</th>\n",
       "      <th>fips</th>\n",
       "      <th>cases</th>\n",
       "      <th>deaths</th>\n",
       "    </tr>\n",
       "  </thead>\n",
       "  <tbody>\n",
       "    <tr>\n",
       "      <th>0</th>\n",
       "      <td>2020-01-21</td>\n",
       "      <td>Snohomish</td>\n",
       "      <td>Washington</td>\n",
       "      <td>53061.0</td>\n",
       "      <td>1</td>\n",
       "      <td>0.0</td>\n",
       "    </tr>\n",
       "    <tr>\n",
       "      <th>1</th>\n",
       "      <td>2020-01-22</td>\n",
       "      <td>Snohomish</td>\n",
       "      <td>Washington</td>\n",
       "      <td>53061.0</td>\n",
       "      <td>1</td>\n",
       "      <td>0.0</td>\n",
       "    </tr>\n",
       "    <tr>\n",
       "      <th>2</th>\n",
       "      <td>2020-01-23</td>\n",
       "      <td>Snohomish</td>\n",
       "      <td>Washington</td>\n",
       "      <td>53061.0</td>\n",
       "      <td>1</td>\n",
       "      <td>0.0</td>\n",
       "    </tr>\n",
       "    <tr>\n",
       "      <th>3</th>\n",
       "      <td>2020-01-24</td>\n",
       "      <td>Cook</td>\n",
       "      <td>Illinois</td>\n",
       "      <td>17031.0</td>\n",
       "      <td>1</td>\n",
       "      <td>0.0</td>\n",
       "    </tr>\n",
       "    <tr>\n",
       "      <th>4</th>\n",
       "      <td>2020-01-24</td>\n",
       "      <td>Snohomish</td>\n",
       "      <td>Washington</td>\n",
       "      <td>53061.0</td>\n",
       "      <td>1</td>\n",
       "      <td>0.0</td>\n",
       "    </tr>\n",
       "  </tbody>\n",
       "</table>\n",
       "</div>"
      ],
      "text/plain": [
       "         date     county       state     fips  cases  deaths\n",
       "0  2020-01-21  Snohomish  Washington  53061.0      1     0.0\n",
       "1  2020-01-22  Snohomish  Washington  53061.0      1     0.0\n",
       "2  2020-01-23  Snohomish  Washington  53061.0      1     0.0\n",
       "3  2020-01-24       Cook    Illinois  17031.0      1     0.0\n",
       "4  2020-01-24  Snohomish  Washington  53061.0      1     0.0"
      ]
     },
     "execution_count": 2,
     "metadata": {},
     "output_type": "execute_result"
    }
   ],
   "source": [
    "df = pd.read_csv(\"us-counties-2020.csv\")\n",
    "df.head()"
   ]
  },
  {
   "cell_type": "code",
   "execution_count": 3,
   "id": "c2d169bc",
   "metadata": {},
   "outputs": [
    {
     "name": "stdout",
     "output_type": "stream",
     "text": [
      "0          0.0\n",
      "1          0.0\n",
      "2          0.0\n",
      "3          0.0\n",
      "4          0.0\n",
      "          ... \n",
      "884732    16.0\n",
      "884733     4.0\n",
      "884734     7.0\n",
      "884735    19.0\n",
      "884736     2.0\n",
      "Name: deaths, Length: 884737, dtype: float64\n"
     ]
    }
   ],
   "source": [
    "print(df['deaths'])"
   ]
  },
  {
   "cell_type": "code",
   "execution_count": 4,
   "id": "30dfd654",
   "metadata": {},
   "outputs": [
    {
     "data": {
      "text/plain": [
       "date       object\n",
       "county     object\n",
       "state      object\n",
       "fips      float64\n",
       "cases       int64\n",
       "deaths    float64\n",
       "dtype: object"
      ]
     },
     "execution_count": 4,
     "metadata": {},
     "output_type": "execute_result"
    }
   ],
   "source": [
    "df.dtypes"
   ]
  },
  {
   "cell_type": "code",
   "execution_count": 5,
   "id": "0d9bf239",
   "metadata": {},
   "outputs": [
    {
     "data": {
      "text/plain": [
       "date          0\n",
       "county        0\n",
       "state         0\n",
       "fips       8266\n",
       "cases         0\n",
       "deaths    18761\n",
       "dtype: int64"
      ]
     },
     "execution_count": 5,
     "metadata": {},
     "output_type": "execute_result"
    }
   ],
   "source": [
    "df.isnull().sum()"
   ]
  },
  {
   "cell_type": "code",
   "execution_count": 6,
   "id": "65647480",
   "metadata": {},
   "outputs": [
    {
     "data": {
      "text/plain": [
       "date      0\n",
       "county    0\n",
       "state     0\n",
       "fips      0\n",
       "cases     0\n",
       "deaths    0\n",
       "dtype: int64"
      ]
     },
     "execution_count": 6,
     "metadata": {},
     "output_type": "execute_result"
    }
   ],
   "source": [
    "df = df.dropna()\n",
    "\n",
    "df.isnull().sum()"
   ]
  },
  {
   "cell_type": "code",
   "execution_count": 7,
   "id": "4b8387b8",
   "metadata": {},
   "outputs": [
    {
     "data": {
      "text/plain": [
       "['date', 'county', 'state', 'fips', 'cases', 'deaths']"
      ]
     },
     "execution_count": 7,
     "metadata": {},
     "output_type": "execute_result"
    }
   ],
   "source": [
    "df.columns.values.tolist()"
   ]
  },
  {
   "cell_type": "code",
   "execution_count": 8,
   "id": "959025e0",
   "metadata": {},
   "outputs": [],
   "source": [
    "# list_features = ['cases']\n",
    "# x = df[df['state'] == \"California\"][list_features]\n",
    "# y = df[df['state'] == \"California\"]['deaths']\n",
    "# x_train, x_test, y_train, y_test = train_test_split(x,y,test_size=0.30, random_state=7)"
   ]
  },
  {
   "cell_type": "markdown",
   "id": "5294388f",
   "metadata": {},
   "source": [
    "## Linear Regression"
   ]
  },
  {
   "cell_type": "markdown",
   "id": "5901fdcd",
   "metadata": {},
   "source": [
    "### Explore the relation between cases - deaths "
   ]
  },
  {
   "cell_type": "markdown",
   "id": "07fb4688",
   "metadata": {},
   "source": [
    "reference : https://realpython.com/linear-regression-in-python/"
   ]
  },
  {
   "cell_type": "code",
   "execution_count": 9,
   "id": "d5176475",
   "metadata": {},
   "outputs": [],
   "source": [
    "from sklearn.preprocessing import PolynomialFeatures\n",
    "import numpy as np\n",
    "from sklearn.linear_model import LinearRegression\n",
    "import statsmodels.api as sm"
   ]
  },
  {
   "cell_type": "code",
   "execution_count": 10,
   "id": "e0add9af",
   "metadata": {},
   "outputs": [
    {
     "name": "stdout",
     "output_type": "stream",
     "text": [
      "0.0\n"
     ]
    }
   ],
   "source": [
    "print(df['deaths'].min())"
   ]
  },
  {
   "cell_type": "markdown",
   "id": "0d29a6e6",
   "metadata": {},
   "source": [
    "### Prepare data"
   ]
  },
  {
   "cell_type": "code",
   "execution_count": 11,
   "id": "0b0fa6ea",
   "metadata": {},
   "outputs": [
    {
     "name": "stdout",
     "output_type": "stream",
     "text": [
      "5             1\n",
      "9             1\n",
      "10            1\n",
      "14            1\n",
      "15            1\n",
      "          ...  \n",
      "881731    33443\n",
      "881732     2962\n",
      "881733    39559\n",
      "881734     8238\n",
      "881735     3898\n",
      "Name: cases, Length: 16792, dtype: int64\n"
     ]
    }
   ],
   "source": [
    "# Use data of Orange to show off the relation between cases and deaths\n",
    "X = df[df['state'] == \"California\"]['cases']\n",
    "\n",
    "print(X)"
   ]
  },
  {
   "cell_type": "code",
   "execution_count": 12,
   "id": "5f977688",
   "metadata": {},
   "outputs": [
    {
     "data": {
      "text/plain": [
       "array([[  0.],\n",
       "       [  0.],\n",
       "       [  0.],\n",
       "       ...,\n",
       "       [263.],\n",
       "       [111.],\n",
       "       [ 19.]])"
      ]
     },
     "execution_count": 12,
     "metadata": {},
     "output_type": "execute_result"
    }
   ],
   "source": [
    "# transfer dataframe to a 1-D array to fit the format of Linear Regression Module\n",
    "X = X.values.reshape(-1,1)\n",
    "\n",
    "Y = df[df['state'] == \"California\"]['deaths']\n",
    "Y.values.reshape(-1,1)"
   ]
  },
  {
   "cell_type": "code",
   "execution_count": 13,
   "id": "cebbc5ca",
   "metadata": {},
   "outputs": [
    {
     "name": "stdout",
     "output_type": "stream",
     "text": [
      "[[    1]\n",
      " [    1]\n",
      " [    1]\n",
      " ...\n",
      " [39559]\n",
      " [ 8238]\n",
      " [ 3898]]\n"
     ]
    }
   ],
   "source": [
    "print(X)"
   ]
  },
  {
   "cell_type": "code",
   "execution_count": 14,
   "id": "09aef01e",
   "metadata": {},
   "outputs": [
    {
     "name": "stdout",
     "output_type": "stream",
     "text": [
      "5           0.0\n",
      "9           0.0\n",
      "10          0.0\n",
      "14          0.0\n",
      "15          0.0\n",
      "          ...  \n",
      "881731    406.0\n",
      "881732     21.0\n",
      "881733    263.0\n",
      "881734    111.0\n",
      "881735     19.0\n",
      "Name: deaths, Length: 16792, dtype: float64\n"
     ]
    }
   ],
   "source": [
    "print(Y)"
   ]
  },
  {
   "cell_type": "markdown",
   "id": "f8ae3226",
   "metadata": {},
   "source": [
    "### Create the Linear Regression Module"
   ]
  },
  {
   "cell_type": "code",
   "execution_count": 15,
   "id": "c5e9f0e2",
   "metadata": {},
   "outputs": [
    {
     "name": "stdout",
     "output_type": "stream",
     "text": [
      "LinearRegression()\n"
     ]
    }
   ],
   "source": [
    "model = LinearRegression()\n",
    "model = model.fit(X, Y)\n",
    "\n",
    "print(model)"
   ]
  },
  {
   "cell_type": "code",
   "execution_count": 16,
   "id": "e4c239d6",
   "metadata": {},
   "outputs": [
    {
     "name": "stdout",
     "output_type": "stream",
     "text": [
      "coefficient of determination(𝑅²) : 0.9150969390843606\n",
      "intercept: -6.95199985456145\n",
      "slope: [0.01818519]\n"
     ]
    }
   ],
   "source": [
    "r_sq = model.score(X, Y)\n",
    "\n",
    "print('coefficient of determination(𝑅²) :', r_sq)\n",
    "print('intercept:', model.intercept_)\n",
    "print('slope:', model.coef_)"
   ]
  },
  {
   "cell_type": "markdown",
   "id": "f9315d6c",
   "metadata": {},
   "source": [
    "### Predict the result "
   ]
  },
  {
   "cell_type": "markdown",
   "id": "f0c53926",
   "metadata": {},
   "source": [
    "Here Y can be predicted by 2797 + x * -0.02903428 "
   ]
  },
  {
   "cell_type": "code",
   "execution_count": 17,
   "id": "8bf71d2b",
   "metadata": {},
   "outputs": [
    {
     "name": "stdout",
     "output_type": "stream",
     "text": [
      "predicted response:\n",
      "[ -6.93381467  -6.93381467  -6.93381467 ... 712.43579551 142.85756708\n",
      "  63.93385738]\n"
     ]
    }
   ],
   "source": [
    "y_pred = model.predict(X)\n",
    "\n",
    "print('predicted response:', y_pred, sep='\\n')"
   ]
  },
  {
   "cell_type": "code",
   "execution_count": 18,
   "id": "40915e46",
   "metadata": {},
   "outputs": [
    {
     "name": "stdout",
     "output_type": "stream",
     "text": [
      "10345.0\n"
     ]
    }
   ],
   "source": [
    "print(np.max(Y,axis=0))"
   ]
  },
  {
   "cell_type": "markdown",
   "id": "929da308",
   "metadata": {},
   "source": [
    "###  Visualize the predicted results and the actual results"
   ]
  },
  {
   "cell_type": "code",
   "execution_count": 19,
   "id": "9a182669",
   "metadata": {},
   "outputs": [
    {
     "data": {
      "image/png": "[encoded data removed]",
      "text/plain": [
       "<Figure size 432x288 with 1 Axes>"
      ]
     },
     "metadata": {
      "needs_background": "light"
     },
     "output_type": "display_data"
    }
   ],
   "source": [
    "import matplotlib.pyplot as plt\n",
    "import numpy as np\n",
    " \n",
    "plt.title(\"linear Regression Module\")\n",
    "plt.xlabel('deaths in Orange')\n",
    "plt.ylabel('cases in Orange')\n",
    "\n",
    "plt.plot(X, y_pred, color='blue')\n",
    "plt.scatter(X, Y, color='green')\n",
    " \n",
    "plt.show() "
   ]
  },
  {
   "cell_type": "markdown",
   "id": "96812f25",
   "metadata": {},
   "source": [
    "### Use OLS to evaluate the module "
   ]
  },
  {
   "cell_type": "code",
   "execution_count": 20,
   "id": "cf6ec8db",
   "metadata": {},
   "outputs": [
    {
     "name": "stdout",
     "output_type": "stream",
     "text": [
      "                            OLS Regression Results                            \n",
      "==============================================================================\n",
      "Dep. Variable:                 deaths   R-squared:                       0.915\n",
      "Model:                            OLS   Adj. R-squared:                  0.915\n",
      "Method:                 Least Squares   F-statistic:                 1.810e+05\n",
      "Date:                Mon, 05 Dec 2022   Prob (F-statistic):               0.00\n",
      "Time:                        20:32:49   Log-Likelihood:            -1.1376e+05\n",
      "No. Observations:               16792   AIC:                         2.275e+05\n",
      "Df Residuals:                   16790   BIC:                         2.275e+05\n",
      "Df Model:                           1                                         \n",
      "Covariance Type:            nonrobust                                         \n",
      "==============================================================================\n",
      "                 coef    std err          t      P>|t|      [0.025      0.975]\n",
      "------------------------------------------------------------------------------\n",
      "const         -6.9520      1.694     -4.104      0.000     -10.273      -3.631\n",
      "cases          0.0182   4.27e-05    425.400      0.000       0.018       0.018\n",
      "==============================================================================\n",
      "Omnibus:                     6414.391   Durbin-Watson:                   1.810\n",
      "Prob(Omnibus):                  0.000   Jarque-Bera (JB):          3959305.675\n",
      "Skew:                          -0.301   Prob(JB):                         0.00\n",
      "Kurtosis:                      78.223   Cond. No.                     4.11e+04\n",
      "==============================================================================\n",
      "\n",
      "Notes:\n",
      "[1] Standard Errors assume that the covariance matrix of the errors is correctly specified.\n",
      "[2] The condition number is large, 4.11e+04. This might indicate that there are\n",
      "strong multicollinearity or other numerical problems.\n"
     ]
    }
   ],
   "source": [
    "X = df[df['state'] == \"California\"]['cases']\n",
    "Y = df[df['state'] == \"California\"]['deaths']\n",
    " \n",
    "X2 = sm.add_constant(X)\n",
    "est = sm.OLS(Y, X2)\n",
    "est2 = est.fit()\n",
    "print(est2.summary())"
   ]
  },
  {
   "cell_type": "markdown",
   "id": "5143a112",
   "metadata": {},
   "source": [
    "The R-squared is 0.915, which is closer to 1. It means 'cases' and 'deaths' have strong relations.\n",
    "\n",
    "The p valus is 0, which is less than 0.05. It indicates 'cases' are significant."
   ]
  },
  {
   "cell_type": "markdown",
   "id": "8e419045",
   "metadata": {},
   "source": [
    "## Multiple Linear Regression"
   ]
  },
  {
   "cell_type": "markdown",
   "id": "14cada9f",
   "metadata": {},
   "source": [
    "### Explore the relation between cases, fips - deaths"
   ]
  },
  {
   "cell_type": "code",
   "execution_count": 21,
   "id": "ca73e0c7",
   "metadata": {},
   "outputs": [
    {
     "data": {
      "text/html": [
       "<div>\n",
       "<style scoped>\n",
       "    .dataframe tbody tr th:only-of-type {\n",
       "        vertical-align: middle;\n",
       "    }\n",
       "\n",
       "    .dataframe tbody tr th {\n",
       "        vertical-align: top;\n",
       "    }\n",
       "\n",
       "    .dataframe thead th {\n",
       "        text-align: right;\n",
       "    }\n",
       "</style>\n",
       "<table border=\"1\" class=\"dataframe\">\n",
       "  <thead>\n",
       "    <tr style=\"text-align: right;\">\n",
       "      <th></th>\n",
       "      <th>date</th>\n",
       "      <th>county</th>\n",
       "      <th>state</th>\n",
       "      <th>fips</th>\n",
       "      <th>cases</th>\n",
       "      <th>deaths</th>\n",
       "    </tr>\n",
       "  </thead>\n",
       "  <tbody>\n",
       "    <tr>\n",
       "      <th>0</th>\n",
       "      <td>2020-01-21</td>\n",
       "      <td>Snohomish</td>\n",
       "      <td>Washington</td>\n",
       "      <td>53061.0</td>\n",
       "      <td>1</td>\n",
       "      <td>0.0</td>\n",
       "    </tr>\n",
       "    <tr>\n",
       "      <th>1</th>\n",
       "      <td>2020-01-22</td>\n",
       "      <td>Snohomish</td>\n",
       "      <td>Washington</td>\n",
       "      <td>53061.0</td>\n",
       "      <td>1</td>\n",
       "      <td>0.0</td>\n",
       "    </tr>\n",
       "    <tr>\n",
       "      <th>2</th>\n",
       "      <td>2020-01-23</td>\n",
       "      <td>Snohomish</td>\n",
       "      <td>Washington</td>\n",
       "      <td>53061.0</td>\n",
       "      <td>1</td>\n",
       "      <td>0.0</td>\n",
       "    </tr>\n",
       "    <tr>\n",
       "      <th>3</th>\n",
       "      <td>2020-01-24</td>\n",
       "      <td>Cook</td>\n",
       "      <td>Illinois</td>\n",
       "      <td>17031.0</td>\n",
       "      <td>1</td>\n",
       "      <td>0.0</td>\n",
       "    </tr>\n",
       "    <tr>\n",
       "      <th>4</th>\n",
       "      <td>2020-01-24</td>\n",
       "      <td>Snohomish</td>\n",
       "      <td>Washington</td>\n",
       "      <td>53061.0</td>\n",
       "      <td>1</td>\n",
       "      <td>0.0</td>\n",
       "    </tr>\n",
       "  </tbody>\n",
       "</table>\n",
       "</div>"
      ],
      "text/plain": [
       "         date     county       state     fips  cases  deaths\n",
       "0  2020-01-21  Snohomish  Washington  53061.0      1     0.0\n",
       "1  2020-01-22  Snohomish  Washington  53061.0      1     0.0\n",
       "2  2020-01-23  Snohomish  Washington  53061.0      1     0.0\n",
       "3  2020-01-24       Cook    Illinois  17031.0      1     0.0\n",
       "4  2020-01-24  Snohomish  Washington  53061.0      1     0.0"
      ]
     },
     "execution_count": 21,
     "metadata": {},
     "output_type": "execute_result"
    }
   ],
   "source": [
    "df.head()"
   ]
  },
  {
   "cell_type": "markdown",
   "id": "592b012c",
   "metadata": {},
   "source": [
    "### Prepare data"
   ]
  },
  {
   "cell_type": "code",
   "execution_count": 22,
   "id": "ed4c3339",
   "metadata": {},
   "outputs": [
    {
     "name": "stdout",
     "output_type": "stream",
     "text": [
      "        cases    fips\n",
      "5           1  6059.0\n",
      "9           1  6037.0\n",
      "10          1  6059.0\n",
      "14          1  6037.0\n",
      "15          1  6059.0\n",
      "...       ...     ...\n",
      "881731  33443  6107.0\n",
      "881732   2962  6109.0\n",
      "881733  39559  6111.0\n",
      "881734   8238  6113.0\n",
      "881735   3898  6115.0\n",
      "\n",
      "[16792 rows x 2 columns]\n"
     ]
    }
   ],
   "source": [
    "X_multi = df[df['state'] == \"California\"][['cases', 'fips']]\n",
    "\n",
    "print(X_multi)"
   ]
  },
  {
   "cell_type": "code",
   "execution_count": 23,
   "id": "c34bebac",
   "metadata": {},
   "outputs": [
    {
     "data": {
      "text/plain": [
       "array([[  0.],\n",
       "       [  0.],\n",
       "       [  0.],\n",
       "       ...,\n",
       "       [263.],\n",
       "       [111.],\n",
       "       [ 19.]])"
      ]
     },
     "execution_count": 23,
     "metadata": {},
     "output_type": "execute_result"
    }
   ],
   "source": [
    "Y_multi = df[df['state'] == \"California\"]['deaths']\n",
    "Y_multi.values.reshape(-1,1)"
   ]
  },
  {
   "cell_type": "markdown",
   "id": "8fae7319",
   "metadata": {},
   "source": [
    "### Create the Multiple Linear Regression Module"
   ]
  },
  {
   "cell_type": "code",
   "execution_count": 24,
   "id": "3400b4dc",
   "metadata": {},
   "outputs": [
    {
     "name": "stdout",
     "output_type": "stream",
     "text": [
      "LinearRegression()\n"
     ]
    }
   ],
   "source": [
    "model = LinearRegression()\n",
    "model = model.fit(X_multi, Y_multi)\n",
    "\n",
    "print(model)"
   ]
  },
  {
   "cell_type": "code",
   "execution_count": 25,
   "id": "503ae915",
   "metadata": {},
   "outputs": [
    {
     "name": "stdout",
     "output_type": "stream",
     "text": [
      "coefficient of determination(𝑅²) : 0.9153000063328857\n",
      "intercept: 1874.5550459780345\n",
      "slope: [ 0.01817415 -0.31055228]\n"
     ]
    }
   ],
   "source": [
    "r_sq = model.score(X_multi, Y_multi)\n",
    "\n",
    "print('coefficient of determination(𝑅²) :', r_sq)\n",
    "print('intercept:', model.intercept_)\n",
    "print('slope:', model.coef_)"
   ]
  },
  {
   "cell_type": "markdown",
   "id": "45c57032",
   "metadata": {},
   "source": [
    "### Predict the result"
   ]
  },
  {
   "cell_type": "code",
   "execution_count": 26,
   "id": "d1608763",
   "metadata": {},
   "outputs": [
    {
     "name": "stdout",
     "output_type": "stream",
     "text": [
      "predicted response:\n",
      "[-7.06305729e+00 -2.30907087e-01 -7.06305729e+00 ...  6.95721241e+02\n",
      "  1.25867591e+02  4.63706766e+01]\n"
     ]
    }
   ],
   "source": [
    "Y_multi_pred = model.predict(X_multi)\n",
    "\n",
    "print('predicted response:', Y_multi_pred, sep='\\n')"
   ]
  },
  {
   "cell_type": "markdown",
   "id": "229c202a",
   "metadata": {},
   "source": [
    "###  Use OLA to evaluate the module "
   ]
  },
  {
   "cell_type": "code",
   "execution_count": 27,
   "id": "121c8555",
   "metadata": {},
   "outputs": [
    {
     "name": "stdout",
     "output_type": "stream",
     "text": [
      "                            OLS Regression Results                            \n",
      "==============================================================================\n",
      "Dep. Variable:                 deaths   R-squared:                       0.866\n",
      "Model:                            OLS   Adj. R-squared:                  0.866\n",
      "Method:                 Least Squares   F-statistic:                     7598.\n",
      "Date:                Mon, 05 Dec 2022   Prob (F-statistic):               0.00\n",
      "Time:                        20:32:49   Log-Likelihood:                -14778.\n",
      "No. Observations:                2354   AIC:                         2.956e+04\n",
      "Df Residuals:                    2351   BIC:                         2.958e+04\n",
      "Df Model:                           2                                         \n",
      "Covariance Type:            nonrobust                                         \n",
      "==============================================================================\n",
      "                 coef    std err          t      P>|t|      [0.025      0.975]\n",
      "------------------------------------------------------------------------------\n",
      "const         36.2341      7.166      5.057      0.000      22.182      50.286\n",
      "cases          0.0155      0.000    105.104      0.000       0.015       0.016\n",
      "fips          -0.0002      0.000     -1.350      0.177      -0.001       0.000\n",
      "==============================================================================\n",
      "Omnibus:                      321.106   Durbin-Watson:                   2.334\n",
      "Prob(Omnibus):                  0.000   Jarque-Bera (JB):             2342.832\n",
      "Skew:                           0.416   Prob(JB):                         0.00\n",
      "Kurtosis:                       7.816   Cond. No.                     9.80e+04\n",
      "==============================================================================\n",
      "\n",
      "Notes:\n",
      "[1] Standard Errors assume that the covariance matrix of the errors is correctly specified.\n",
      "[2] The condition number is large, 9.8e+04. This might indicate that there are\n",
      "strong multicollinearity or other numerical problems.\n"
     ]
    }
   ],
   "source": [
    "X = df[df['county'] == \"Orange\"][['cases', 'fips']]\n",
    "Y = df[df['county'] == \"Orange\"]['deaths']\n",
    " \n",
    "X2 = sm.add_constant(X)\n",
    "est = sm.OLS(Y, X2)\n",
    "est2 = est.fit()\n",
    "print(est2.summary())"
   ]
  },
  {
   "cell_type": "markdown",
   "id": "7f5d64f6",
   "metadata": {},
   "source": [
    "The R-squared is 0.866, which is closer to 1. It means 'cases', 'fips' and 'deaths' have strong relations.\n",
    "\n",
    "The p value of 'cases' if 0, which indicates 'cases' has strong relation with 'deaths'. However, the p value of 'fips' is 0.177, which is larger than 0.05, so we do not reject the null hypothesis."
   ]
  },
  {
   "cell_type": "code",
   "execution_count": null,
   "id": "e3735793",
   "metadata": {},
   "outputs": [],
   "source": []
  }
 ],
 "metadata": {
  "kernelspec": {
   "display_name": "Python 3",
   "language": "python",
   "name": "python3"
  },
  "language_info": {
   "codemirror_mode": {
    "name": "ipython",
    "version": 3
   },
   "file_extension": ".py",
   "mimetype": "text/x-python",
   "name": "python",
   "nbconvert_exporter": "python",
   "pygments_lexer": "ipython3",
   "version": "3.8.8"
  }
 },
 "nbformat": 4,
 "nbformat_minor": 5
}
