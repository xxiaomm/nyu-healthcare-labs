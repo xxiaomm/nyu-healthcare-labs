{
 "cells": [
  {
   "cell_type": "code",
   "execution_count": 136,
   "id": "3d6060e2",
   "metadata": {},
   "outputs": [],
   "source": [
    "# https://scikit-learn.org/stable/auto_examples/cluster/plot_agglomerative_dendrogram.html#sphx-glr-auto-examples-cluster-plot-agglomerative-dendrogram-py\n",
    "# https://stackabuse.com/bytes/agglomerative-hierarchical-clustering-with-scikit-learn/\n",
    "# https://towardsdatascience.com/machine-learning-algorithms-part-12-hierarchical-agglomerative-clustering-example-in-python-1e18e0075019\n",
    "# https://blog.51cto.com/u_15069487/2581492\n",
    "# https://blog.csdn.net/weixin_26752765/article/details/108133419\n",
    "# https://www.cnblogs.com/jin-liang/p/9527522.html\n",
    "import pandas as pd\n",
    "import seaborn as sns\n",
    "import matplotlib.pyplot as plt\n",
    "from sklearn.cluster import AgglomerativeClustering\n",
    "from scipy.cluster import hierarchy\n",
    "\n",
    "from scipy.cluster.hierarchy import linkage, dendrogram\n",
    "from sklearn.datasets import make_blobs\n",
    "import numpy as np\n"
   ]
  },
  {
   "cell_type": "markdown",
   "id": "461eea03",
   "metadata": {},
   "source": [
    "# Part I"
   ]
  },
  {
   "cell_type": "code",
   "execution_count": 137,
   "id": "9090e80b",
   "metadata": {},
   "outputs": [
    {
     "name": "stdout",
     "output_type": "stream",
     "text": [
      "(569, 32)\n"
     ]
    },
    {
     "data": {
      "text/html": [
       "<div>\n",
       "<style scoped>\n",
       "    .dataframe tbody tr th:only-of-type {\n",
       "        vertical-align: middle;\n",
       "    }\n",
       "\n",
       "    .dataframe tbody tr th {\n",
       "        vertical-align: top;\n",
       "    }\n",
       "\n",
       "    .dataframe thead th {\n",
       "        text-align: right;\n",
       "    }\n",
       "</style>\n",
       "<table border=\"1\" class=\"dataframe\">\n",
       "  <thead>\n",
       "    <tr style=\"text-align: right;\">\n",
       "      <th></th>\n",
       "      <th>id</th>\n",
       "      <th>diagnosis</th>\n",
       "      <th>radius_mean</th>\n",
       "      <th>texture_mean</th>\n",
       "      <th>perimeter_mean</th>\n",
       "      <th>area_mean</th>\n",
       "      <th>smoothness_mean</th>\n",
       "      <th>compactness_mean</th>\n",
       "      <th>concavity_mean</th>\n",
       "      <th>concave points_mean</th>\n",
       "      <th>...</th>\n",
       "      <th>radius_worst</th>\n",
       "      <th>texture_worst</th>\n",
       "      <th>perimeter_worst</th>\n",
       "      <th>area_worst</th>\n",
       "      <th>smoothness_worst</th>\n",
       "      <th>compactness_worst</th>\n",
       "      <th>concavity_worst</th>\n",
       "      <th>concave points_worst</th>\n",
       "      <th>symmetry_worst</th>\n",
       "      <th>fractal_dimension_worst</th>\n",
       "    </tr>\n",
       "  </thead>\n",
       "  <tbody>\n",
       "    <tr>\n",
       "      <th>0</th>\n",
       "      <td>842302</td>\n",
       "      <td>M</td>\n",
       "      <td>17.99</td>\n",
       "      <td>10.38</td>\n",
       "      <td>122.80</td>\n",
       "      <td>1001.0</td>\n",
       "      <td>0.11840</td>\n",
       "      <td>0.27760</td>\n",
       "      <td>0.3001</td>\n",
       "      <td>0.14710</td>\n",
       "      <td>...</td>\n",
       "      <td>25.38</td>\n",
       "      <td>17.33</td>\n",
       "      <td>184.60</td>\n",
       "      <td>2019.0</td>\n",
       "      <td>0.1622</td>\n",
       "      <td>0.6656</td>\n",
       "      <td>0.7119</td>\n",
       "      <td>0.2654</td>\n",
       "      <td>0.4601</td>\n",
       "      <td>0.11890</td>\n",
       "    </tr>\n",
       "    <tr>\n",
       "      <th>1</th>\n",
       "      <td>842517</td>\n",
       "      <td>M</td>\n",
       "      <td>20.57</td>\n",
       "      <td>17.77</td>\n",
       "      <td>132.90</td>\n",
       "      <td>1326.0</td>\n",
       "      <td>0.08474</td>\n",
       "      <td>0.07864</td>\n",
       "      <td>0.0869</td>\n",
       "      <td>0.07017</td>\n",
       "      <td>...</td>\n",
       "      <td>24.99</td>\n",
       "      <td>23.41</td>\n",
       "      <td>158.80</td>\n",
       "      <td>1956.0</td>\n",
       "      <td>0.1238</td>\n",
       "      <td>0.1866</td>\n",
       "      <td>0.2416</td>\n",
       "      <td>0.1860</td>\n",
       "      <td>0.2750</td>\n",
       "      <td>0.08902</td>\n",
       "    </tr>\n",
       "    <tr>\n",
       "      <th>2</th>\n",
       "      <td>84300903</td>\n",
       "      <td>M</td>\n",
       "      <td>19.69</td>\n",
       "      <td>21.25</td>\n",
       "      <td>130.00</td>\n",
       "      <td>1203.0</td>\n",
       "      <td>0.10960</td>\n",
       "      <td>0.15990</td>\n",
       "      <td>0.1974</td>\n",
       "      <td>0.12790</td>\n",
       "      <td>...</td>\n",
       "      <td>23.57</td>\n",
       "      <td>25.53</td>\n",
       "      <td>152.50</td>\n",
       "      <td>1709.0</td>\n",
       "      <td>0.1444</td>\n",
       "      <td>0.4245</td>\n",
       "      <td>0.4504</td>\n",
       "      <td>0.2430</td>\n",
       "      <td>0.3613</td>\n",
       "      <td>0.08758</td>\n",
       "    </tr>\n",
       "    <tr>\n",
       "      <th>3</th>\n",
       "      <td>84348301</td>\n",
       "      <td>M</td>\n",
       "      <td>11.42</td>\n",
       "      <td>20.38</td>\n",
       "      <td>77.58</td>\n",
       "      <td>386.1</td>\n",
       "      <td>0.14250</td>\n",
       "      <td>0.28390</td>\n",
       "      <td>0.2414</td>\n",
       "      <td>0.10520</td>\n",
       "      <td>...</td>\n",
       "      <td>14.91</td>\n",
       "      <td>26.50</td>\n",
       "      <td>98.87</td>\n",
       "      <td>567.7</td>\n",
       "      <td>0.2098</td>\n",
       "      <td>0.8663</td>\n",
       "      <td>0.6869</td>\n",
       "      <td>0.2575</td>\n",
       "      <td>0.6638</td>\n",
       "      <td>0.17300</td>\n",
       "    </tr>\n",
       "    <tr>\n",
       "      <th>4</th>\n",
       "      <td>84358402</td>\n",
       "      <td>M</td>\n",
       "      <td>20.29</td>\n",
       "      <td>14.34</td>\n",
       "      <td>135.10</td>\n",
       "      <td>1297.0</td>\n",
       "      <td>0.10030</td>\n",
       "      <td>0.13280</td>\n",
       "      <td>0.1980</td>\n",
       "      <td>0.10430</td>\n",
       "      <td>...</td>\n",
       "      <td>22.54</td>\n",
       "      <td>16.67</td>\n",
       "      <td>152.20</td>\n",
       "      <td>1575.0</td>\n",
       "      <td>0.1374</td>\n",
       "      <td>0.2050</td>\n",
       "      <td>0.4000</td>\n",
       "      <td>0.1625</td>\n",
       "      <td>0.2364</td>\n",
       "      <td>0.07678</td>\n",
       "    </tr>\n",
       "  </tbody>\n",
       "</table>\n",
       "<p>5 rows × 32 columns</p>\n",
       "</div>"
      ],
      "text/plain": [
       "         id diagnosis  radius_mean  texture_mean  perimeter_mean  area_mean  \\\n",
       "0    842302         M        17.99         10.38          122.80     1001.0   \n",
       "1    842517         M        20.57         17.77          132.90     1326.0   \n",
       "2  84300903         M        19.69         21.25          130.00     1203.0   \n",
       "3  84348301         M        11.42         20.38           77.58      386.1   \n",
       "4  84358402         M        20.29         14.34          135.10     1297.0   \n",
       "\n",
       "   smoothness_mean  compactness_mean  concavity_mean  concave points_mean  \\\n",
       "0          0.11840           0.27760          0.3001              0.14710   \n",
       "1          0.08474           0.07864          0.0869              0.07017   \n",
       "2          0.10960           0.15990          0.1974              0.12790   \n",
       "3          0.14250           0.28390          0.2414              0.10520   \n",
       "4          0.10030           0.13280          0.1980              0.10430   \n",
       "\n",
       "   ...  radius_worst  texture_worst  perimeter_worst  area_worst  \\\n",
       "0  ...         25.38          17.33           184.60      2019.0   \n",
       "1  ...         24.99          23.41           158.80      1956.0   \n",
       "2  ...         23.57          25.53           152.50      1709.0   \n",
       "3  ...         14.91          26.50            98.87       567.7   \n",
       "4  ...         22.54          16.67           152.20      1575.0   \n",
       "\n",
       "   smoothness_worst  compactness_worst  concavity_worst  concave points_worst  \\\n",
       "0            0.1622             0.6656           0.7119                0.2654   \n",
       "1            0.1238             0.1866           0.2416                0.1860   \n",
       "2            0.1444             0.4245           0.4504                0.2430   \n",
       "3            0.2098             0.8663           0.6869                0.2575   \n",
       "4            0.1374             0.2050           0.4000                0.1625   \n",
       "\n",
       "   symmetry_worst  fractal_dimension_worst  \n",
       "0          0.4601                  0.11890  \n",
       "1          0.2750                  0.08902  \n",
       "2          0.3613                  0.08758  \n",
       "3          0.6638                  0.17300  \n",
       "4          0.2364                  0.07678  \n",
       "\n",
       "[5 rows x 32 columns]"
      ]
     },
     "execution_count": 137,
     "metadata": {},
     "output_type": "execute_result"
    }
   ],
   "source": [
    "data = pd.read_csv('Wisconsin_breast_cancer.csv')\n",
    "print(data.shape) \n",
    "data.head()"
   ]
  },
  {
   "cell_type": "code",
   "execution_count": 138,
   "id": "0d89db04",
   "metadata": {},
   "outputs": [
    {
     "data": {
      "text/plain": [
       "array(['M', 'B'], dtype=object)"
      ]
     },
     "execution_count": 138,
     "metadata": {},
     "output_type": "execute_result"
    }
   ],
   "source": [
    "data['diagnosis'].unique()"
   ]
  },
  {
   "cell_type": "markdown",
   "id": "b1379ef0",
   "metadata": {},
   "source": [
    "## Create a dendrogram."
   ]
  },
  {
   "cell_type": "code",
   "execution_count": 139,
   "id": "058d4bc9",
   "metadata": {},
   "outputs": [
    {
     "data": {
      "image/png": "[encoded data removed]",
      "text/plain": [
       "<Figure size 432x288 with 1 Axes>"
      ]
     },
     "metadata": {
      "needs_background": "light"
     },
     "output_type": "display_data"
    }
   ],
   "source": [
    "X = data.iloc[:, [2,]].values\n",
    "dendrogram = hierarchy.dendrogram(linkage(X, method='ward'))"
   ]
  },
  {
   "cell_type": "markdown",
   "id": "ba5eb85c",
   "metadata": {},
   "source": [
    "## Evaluate the model"
   ]
  },
  {
   "cell_type": "code",
   "execution_count": 140,
   "id": "353e6e14",
   "metadata": {},
   "outputs": [
    {
     "data": {
      "text/plain": [
       "array([0, 0, 0, 1, 0, 1, 0, 1, 1, 1, 2, 2, 0, 2, 1, 2, 2, 2, 0, 1, 1, 3,\n",
       "       2, 0, 2, 0, 2, 0, 2, 0, 0, 1, 0, 0, 2, 2, 2, 1, 2, 1, 1, 1, 0, 1,\n",
       "       1, 0, 3, 1, 1, 1, 1, 1, 1, 0, 2, 1, 0, 2, 1, 3, 3, 3, 2, 3, 1, 2,\n",
       "       3, 1, 3, 1, 0, 3, 0, 1, 1, 2, 1, 0, 0, 1, 1, 1, 0, 0, 1, 0, 2, 0,\n",
       "       1, 2, 2, 2, 1, 1, 2, 0, 1, 3, 1, 2, 1, 3, 1, 3, 3, 1, 1, 1, 0, 1,\n",
       "       3, 1, 2, 3, 3, 1, 3, 2, 2, 0, 1, 0, 0, 2, 1, 1, 1, 0, 2, 0, 1, 2,\n",
       "       2, 2, 0, 1, 1, 1, 2, 1, 3, 2, 1, 1, 1, 1, 1, 2, 2, 1, 1, 3, 3, 1,\n",
       "       1, 1, 0, 2, 1, 1, 1, 0, 0, 1, 0, 2, 1, 2, 0, 2, 1, 1, 2, 1, 1, 3,\n",
       "       3, 2, 1, 1, 0, 0, 2, 1, 2, 3, 0, 1, 1, 1, 2, 1, 3, 1, 2, 1, 1, 0,\n",
       "       0, 2, 1, 0, 0, 1, 1, 2, 3, 0, 1, 2, 0, 1, 0, 0, 2, 1, 1, 3, 0, 0,\n",
       "       1, 1, 3, 2, 1, 2, 3, 2, 1, 1, 0, 1, 1, 0, 3, 1, 0, 0, 2, 0, 1, 1,\n",
       "       1, 1, 0, 3, 1, 1, 1, 1, 0, 1, 0, 0, 0, 1, 0, 2, 2, 2, 0, 0, 0, 2,\n",
       "       0, 0, 3, 1, 1, 1, 2, 1, 0, 3, 0, 1, 1, 0, 1, 1, 0, 1, 0, 2, 1, 1,\n",
       "       1, 1, 1, 1, 2, 2, 1, 1, 1, 1, 1, 1, 2, 3, 0, 1, 0, 3, 1, 1, 1, 3,\n",
       "       1, 1, 1, 2, 1, 1, 3, 1, 1, 0, 3, 1, 3, 0, 1, 0, 1, 1, 1, 1, 2, 2,\n",
       "       2, 1, 1, 1, 1, 0, 1, 0, 3, 0, 2, 3, 1, 0, 1, 3, 1, 2, 1, 1, 1, 2,\n",
       "       0, 2, 1, 1, 1, 1, 3, 3, 1, 1, 1, 2, 1, 0, 0, 1, 0, 0, 2, 2, 0, 0,\n",
       "       1, 2, 3, 1, 1, 1, 1, 1, 1, 1, 1, 2, 1, 1, 1, 0, 3, 3, 2, 0, 1, 1,\n",
       "       1, 1, 1, 1, 0, 1, 1, 1, 1, 1, 2, 1, 0, 1, 1, 1, 3, 2, 2, 1, 3, 2,\n",
       "       1, 1, 1, 2, 1, 1, 3, 3, 3, 1, 1, 1, 2, 1, 0, 0, 2, 1, 1, 1, 1, 1,\n",
       "       1, 0, 1, 3, 0, 1, 0, 2, 2, 0, 1, 0, 1, 2, 1, 1, 1, 1, 1, 3, 0, 0,\n",
       "       2, 1, 1, 1, 1, 3, 0, 1, 3, 1, 2, 1, 1, 1, 2, 1, 1, 2, 1, 1, 1, 1,\n",
       "       2, 1, 2, 0, 1, 2, 1, 0, 0, 1, 1, 2, 1, 1, 0, 0, 2, 1, 1, 0, 3, 3,\n",
       "       1, 1, 2, 2, 1, 2, 1, 2, 2, 1, 0, 0, 1, 1, 3, 0, 1, 1, 3, 3, 1, 1,\n",
       "       1, 1, 1, 1, 1, 0, 1, 0, 2, 1, 3, 3, 1, 2, 2, 1, 1, 1, 3, 3, 3, 1,\n",
       "       1, 1, 1, 3, 1, 3, 3, 3, 2, 1, 1, 1, 2, 0, 0, 0, 2, 0, 3])"
      ]
     },
     "execution_count": 140,
     "metadata": {},
     "output_type": "execute_result"
    }
   ],
   "source": [
    "model = AgglomerativeClustering(n_clusters=4, affinity='euclidean', linkage='ward')\n",
    "labels = np.array(model.fit_predict(X))\n",
    "# model.fit(X)\n",
    "# labels = model.labels_\n",
    "labels"
   ]
  },
  {
   "cell_type": "code",
   "execution_count": 141,
   "id": "fe641dc2",
   "metadata": {},
   "outputs": [],
   "source": [
    "# plt.scatter(X[labels==0, 0], X[labels==0, 1], s=50, marker='o', color='red')\n",
    "# plt.scatter(X[labels==1, 0], X[labels==1, 1], s=50, marker='o', color='blue')\n",
    "# plt.scatter(X[labels==2, 0], X[labels==2, 1], s=50, marker='o', color='green')\n",
    "# plt.scatter(X[labels==3, 0], X[labels==3, 1], s=50, marker='o', color='purple')\n",
    "# plt.scatter(X[labels==4, 0], X[labels==4, 1], s=50, marker='o', color='orange')\n",
    "# plt.show()"
   ]
  },
  {
   "cell_type": "code",
   "execution_count": 142,
   "id": "daa3999b",
   "metadata": {},
   "outputs": [
    {
     "data": {
      "image/png": "[encoded data removed]",
      "text/plain": [
       "<Figure size 432x288 with 1 Axes>"
      ]
     },
     "metadata": {
      "needs_background": "light"
     },
     "output_type": "display_data"
    }
   ],
   "source": [
    "# create blobs/datasets\n",
    "data = make_blobs(n_samples=200, n_features=2, centers=4, cluster_std=1.6, random_state=50)\n",
    "\n",
    "# create np array for data points\n",
    "points = data[0]\n",
    "\n",
    "# create scatter plot\n",
    "plt.scatter(data[0][:,0], data[0][:,1], c=data[1], cmap='viridis')\n",
    "plt.show()"
   ]
  },
  {
   "cell_type": "code",
   "execution_count": 143,
   "id": "000ce07b",
   "metadata": {},
   "outputs": [
    {
     "name": "stdout",
     "output_type": "stream",
     "text": [
      "0.5012452999361275\n"
     ]
    }
   ],
   "source": [
    "# https://machinelearninggeek.com/evaluating-clustering-methods/\n",
    "# DBI\n",
    "from sklearn.metrics import davies_bouldin_score\n",
    "print(davies_bouldin_score(X, labels))"
   ]
  },
  {
   "cell_type": "markdown",
   "id": "329ef2db",
   "metadata": {},
   "source": [
    "Lower the value of DBI is, better the model is."
   ]
  },
  {
   "cell_type": "code",
   "execution_count": 144,
   "id": "8e143e5f",
   "metadata": {},
   "outputs": [
    {
     "name": "stdout",
     "output_type": "stream",
     "text": [
      "0.4987281449296647\n"
     ]
    }
   ],
   "source": [
    "# Silhouette score\n",
    "from sklearn.metrics import silhouette_score\n",
    "print(silhouette_score(X, labels))"
   ]
  },
  {
   "cell_type": "markdown",
   "id": "72aaa25f",
   "metadata": {},
   "source": [
    "The best soce is 1, the worst is -1. So the result is relatively good."
   ]
  },
  {
   "cell_type": "code",
   "execution_count": 145,
   "id": "9874099a",
   "metadata": {},
   "outputs": [
    {
     "name": "stdout",
     "output_type": "stream",
     "text": [
      "1257.3477146513558\n"
     ]
    }
   ],
   "source": [
    "# Calinski and Harabasz Score / Variance Ratio Criterion\n",
    "from sklearn.metrics import calinski_harabasz_score\n",
    "print(calinski_harabasz_score(X, labels))"
   ]
  },
  {
   "cell_type": "markdown",
   "id": "bbadbe0c",
   "metadata": {},
   "source": [
    "Calinski and Harabasz Score is the ratio of intra-cluster dispersion and inter-cluster dispersion."
   ]
  },
  {
   "cell_type": "markdown",
   "id": "83232a9e",
   "metadata": {},
   "source": [
    "## Conclusion\n",
    "\n",
    "advantages:\n",
    "1. There is no specific assumption for the number of clusters.\n",
    "2. It can show the relation between layers.\n",
    "3. It has less limitations.\n",
    "\n",
    "disadvantages:\n",
    "1. Due to the complexity of time and space, it is not suitable for large datasets.\n",
    "2. There is the possibility for the algorithm to cluster into chains.\n",
    "3. Singular value may make big difference on the result."
   ]
  },
  {
   "cell_type": "code",
   "execution_count": null,
   "id": "bddac3cc",
   "metadata": {},
   "outputs": [],
   "source": []
  }
 ],
 "metadata": {
  "kernelspec": {
   "display_name": "Python 3 (ipykernel)",
   "language": "python",
   "name": "python3"
  },
  "language_info": {
   "codemirror_mode": {
    "name": "ipython",
    "version": 3
   },
   "file_extension": ".py",
   "mimetype": "text/x-python",
   "name": "python",
   "nbconvert_exporter": "python",
   "pygments_lexer": "ipython3",
   "version": "3.9.7"
  }
 },
 "nbformat": 4,
 "nbformat_minor": 5
}
